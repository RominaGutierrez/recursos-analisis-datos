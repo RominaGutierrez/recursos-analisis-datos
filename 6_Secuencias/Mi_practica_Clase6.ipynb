{
  "nbformat": 4,
  "nbformat_minor": 0,
  "metadata": {
    "colab": {
      "provenance": []
    },
    "kernelspec": {
      "name": "python3",
      "display_name": "Python 3"
    },
    "language_info": {
      "name": "python"
    }
  },
  "cells": [
    {
      "cell_type": "markdown",
      "source": [],
      "metadata": {
        "id": "U0iAH9j-SrY3"
      }
    },
    {
      "cell_type": "markdown",
      "source": [
        "Estructuras de control"
      ],
      "metadata": {
        "id": "g4CO0BumSKYZ"
      }
    },
    {
      "cell_type": "markdown",
      "source": [
        "Ejercicio 1.0\n",
        "Veamos como funcionan los ciclos while y a que se refiere con ejecución indefinida\n",
        "\n",
        "MUCHO CUIDADO, NO EJECUTAR POR MUCHOS SEGUNDOS YA QUE PUEDE CONSUMIR TODA LA MEMORIA DISPONIBLE AL QUEDARSE IMPIMIENDO VALORES POR SIEMPRE\n",
        "\n",
        "marca error ya que se detuvo la ejecución de forma forzada"
      ],
      "metadata": {
        "id": "OQsCrvoPSVeJ"
      }
    },
    {
      "cell_type": "code",
      "source": [
        "while True:\n",
        "  print(\"Código en ejecución\")"
      ],
      "metadata": {
        "id": "PKiFFde7SX6G"
      },
      "execution_count": null,
      "outputs": []
    },
    {
      "cell_type": "markdown",
      "source": [
        "Ejercicio 1.1\n",
        "Vimos que el ciclo while al quedar con un valor True se va a ejecutar permanentemente, esto quiere decir que mediante una lógica debemos controlar cuando queremos que pare.\n",
        "\n",
        "Veamos un ejemplo donde una vez ingresemos nuestra contraseña el ciclo while se detenga, caso contrario nos siga pidiendo que la ingresemos bien\n"
      ],
      "metadata": {
        "id": "RtT8gkUrS1ZN"
      }
    },
    {
      "cell_type": "code",
      "source": [
        "passwordUsuario = \"ab90s2\"\n",
        "passwordIngresada = input(\"Ingrese su contraseña: \")\n",
        "\n",
        "while (passwordUsuario != passwordIngresada):\n",
        "    print(\"La contraseña\",passwordIngresada,\"es incorrecta re intente por favor\")\n",
        "    passwordIngresada = input(\"Ingrese su contraseña nuevamente:\")"
      ],
      "metadata": {
        "colab": {
          "base_uri": "https://localhost:8080/"
        },
        "id": "o3LqcKlxS6V1",
        "outputId": "9808fa13-629c-4837-ec8d-52fc31a2a04c"
      },
      "execution_count": null,
      "outputs": [
        {
          "name": "stdout",
          "output_type": "stream",
          "text": [
            "Ingrese su contraseña: romina180\n",
            "La contraseña romina180 es incorrecta re intente por favor\n",
            "Ingrese su contraseña nuevamente:ab90s2\n"
          ]
        }
      ]
    },
    {
      "cell_type": "markdown",
      "source": [
        "Ejercicio 1.2\n",
        "Ahora vimos como deterner nuestro ciclo de forma manual, podemos hacer algo similar con números de forma automatica, incrementando el valor y que al llegar al deseado se detenga."
      ],
      "metadata": {
        "id": "k0N9zog8T-cd"
      }
    },
    {
      "cell_type": "code",
      "source": [
        "numeroCicloWhite = 1\n",
        "while numeroCicloWhite < 11 :\n",
        "    print(numeroCicloWhite)\n",
        "    numeroCicloWhite += 1"
      ],
      "metadata": {
        "colab": {
          "base_uri": "https://localhost:8080/"
        },
        "id": "Qc-HUMWlUEz1",
        "outputId": "e31ae71f-83c9-4fe7-ba3b-215d7da84e54"
      },
      "execution_count": null,
      "outputs": [
        {
          "output_type": "stream",
          "name": "stdout",
          "text": [
            "1\n",
            "2\n",
            "3\n",
            "4\n",
            "5\n",
            "6\n",
            "7\n",
            "8\n",
            "9\n",
            "10\n"
          ]
        }
      ]
    },
    {
      "cell_type": "markdown",
      "source": [
        "**while() with else**\n",
        "Con while tambien podemos utilizar la palabra resevada else para definir que hacer una vez nuestro ciclo while deje de ejecutarse.\n",
        "\n",
        "Ejercicio 1.3\n",
        "Creemos un ciclo while que ahora pida el nombre de usuario, y una vez el nombre sea el adecuado le de la bienvenida\n",
        "\n"
      ],
      "metadata": {
        "id": "5B3r5ba7Um8J"
      }
    },
    {
      "cell_type": "code",
      "source": [
        "nombreUsuario = \"romina\"\n",
        "nombreIngresado = input(\"Ingrese su nombre: \")\n",
        "\n",
        "while (nombreUsuario != nombreIngresado):\n",
        "  print(\"El usuario\",nombreIngresado,\"es incorrecto re intente por favor\")\n",
        "  nombreIngresado = input(\"Ingrese su nombre nuevamente: \")\n",
        "else:\n",
        "  print(\"Bienvenida\", nombreIngresado)"
      ],
      "metadata": {
        "colab": {
          "base_uri": "https://localhost:8080/"
        },
        "id": "UlHa5k0TUrui",
        "outputId": "57152737-f7f2-4b1a-f979-b5c4aa7b26c9"
      },
      "execution_count": null,
      "outputs": [
        {
          "output_type": "stream",
          "name": "stdout",
          "text": [
            "Ingrese su nombre: Maria\n",
            "El usuario Maria es incorrecto re intente por favor\n",
            "Ingrese su nombre nuevamente: macarena\n",
            "El usuario macarena es incorrecto re intente por favor\n",
            "Ingrese su nombre nuevamente: romina\n",
            "Bienvenido/a romina\n"
          ]
        }
      ]
    },
    {
      "cell_type": "markdown",
      "source": [
        "**while() with break**\n",
        "break puede usarse para salir prematuramente de un bucle basado en una condición específica.\n",
        "\n",
        "Ejercicio 1.4\n",
        "En este caso utilizamos if para \"disparar\" nuestro break.\n",
        "\n",
        "Nuestro ciclo while se va a ejecutar siempre que nuestro numero_entero sea menor que 10.\n",
        "\n",
        "Pero si por alguna razon nuestro numero_entero es 5 queremos que se detenga de inmediato"
      ],
      "metadata": {
        "id": "U7kNxcvrVbqy"
      }
    },
    {
      "cell_type": "code",
      "source": [
        "numeroEntero = 0\n",
        "\n",
        "while numeroEntero < 10:\n",
        "  print(\"El numero entero es:\", numeroEntero)\n",
        "  numeroEntero += 1\n",
        "  if numeroEntero == 3:\n",
        "    print(\"¡El numero entero llegó a 3, terminando el bucle!\")\n",
        "    break"
      ],
      "metadata": {
        "colab": {
          "base_uri": "https://localhost:8080/"
        },
        "id": "myMQmyuoV9MC",
        "outputId": "80fa8f17-31d0-4e20-c54f-102af7f0cd51"
      },
      "execution_count": null,
      "outputs": [
        {
          "output_type": "stream",
          "name": "stdout",
          "text": [
            "El numero entero es: 0\n",
            "El numero entero es: 1\n",
            "El numero entero es: 2\n",
            "¡El numero entero llegó a 3, terminando el bucle!\n"
          ]
        }
      ]
    },
    {
      "cell_type": "markdown",
      "source": [
        "**while() with continue**\n",
        "Asi como break termina nuestro ciclo de forma inmediata, continue hace que se salte a la siguiente iteración del ciclo de forma inmediata\n",
        "\n",
        "Ejercicio 1.5\n",
        "Ahora queremos que nuestro ciclo while cuando numero_entero sea igual a 5 no se imprima sino que salte a la siguiente iteración"
      ],
      "metadata": {
        "id": "df29ELjuWnjp"
      }
    },
    {
      "cell_type": "code",
      "source": [
        "numeroEntero = 0\n",
        "\n",
        "while numeroEntero < 10:\n",
        "  numeroEntero += 1\n",
        "  if numeroEntero == 5:\n",
        "    continue #continue salta al siguiente ciclo\n",
        "  print(\"Número:\",numeroEntero)"
      ],
      "metadata": {
        "colab": {
          "base_uri": "https://localhost:8080/"
        },
        "id": "FkmP-kk5WuLh",
        "outputId": "14daf009-0311-4788-fc73-f55ec5daad46"
      },
      "execution_count": null,
      "outputs": [
        {
          "output_type": "stream",
          "name": "stdout",
          "text": [
            "Número: 1\n",
            "Número: 2\n",
            "Número: 3\n",
            "Número: 4\n",
            "Número: 6\n",
            "Número: 7\n",
            "Número: 8\n",
            "Número: 9\n",
            "Número: 10\n"
          ]
        }
      ]
    },
    {
      "cell_type": "markdown",
      "source": [
        "**for()**\n",
        "Los ciclos for() se utilizan para iterar sobre secuencias de elementos.\n",
        "\n",
        "Ejercicio 1.6\n",
        "Veamos un ejemplo donde recorramos cada una de las letras de un texto, y ademas vallamos contando el numero de letra y mostrando que caracter es el 1,2,3 etc..."
      ],
      "metadata": {
        "id": "vW-fGwgpXcM3"
      }
    },
    {
      "cell_type": "code",
      "source": [
        "texto =\"Este es un mensaje de python que contiene 55 caracteres\"\n",
        "numeroletra = 1\n",
        "\n",
        "for letra in texto:\n",
        "  mensaje = \"La letra {} es {}\".format(numeroletra,letra)\n",
        "  print(mensaje)\n",
        "  numeroletra += 1"
      ],
      "metadata": {
        "colab": {
          "base_uri": "https://localhost:8080/"
        },
        "id": "J4BsHQtFXhfu",
        "outputId": "311ae5cb-70e1-4ec6-8006-7ea897c2fb40"
      },
      "execution_count": null,
      "outputs": [
        {
          "output_type": "stream",
          "name": "stdout",
          "text": [
            "La letra 1 es E\n",
            "La letra 2 es s\n",
            "La letra 3 es t\n",
            "La letra 4 es e\n",
            "La letra 5 es  \n",
            "La letra 6 es e\n",
            "La letra 7 es s\n",
            "La letra 8 es  \n",
            "La letra 9 es u\n",
            "La letra 10 es n\n",
            "La letra 11 es  \n",
            "La letra 12 es m\n",
            "La letra 13 es e\n",
            "La letra 14 es n\n",
            "La letra 15 es s\n",
            "La letra 16 es a\n",
            "La letra 17 es j\n",
            "La letra 18 es e\n",
            "La letra 19 es  \n",
            "La letra 20 es d\n",
            "La letra 21 es e\n",
            "La letra 22 es  \n",
            "La letra 23 es p\n",
            "La letra 24 es y\n",
            "La letra 25 es t\n",
            "La letra 26 es h\n",
            "La letra 27 es o\n",
            "La letra 28 es n\n",
            "La letra 29 es  \n",
            "La letra 30 es q\n",
            "La letra 31 es u\n",
            "La letra 32 es e\n",
            "La letra 33 es  \n",
            "La letra 34 es c\n",
            "La letra 35 es o\n",
            "La letra 36 es n\n",
            "La letra 37 es t\n",
            "La letra 38 es i\n",
            "La letra 39 es e\n",
            "La letra 40 es n\n",
            "La letra 41 es e\n",
            "La letra 42 es  \n",
            "La letra 43 es 5\n",
            "La letra 44 es 5\n",
            "La letra 45 es  \n",
            "La letra 46 es c\n",
            "La letra 47 es a\n",
            "La letra 48 es r\n",
            "La letra 49 es a\n",
            "La letra 50 es c\n",
            "La letra 51 es t\n",
            "La letra 52 es e\n",
            "La letra 53 es r\n",
            "La letra 54 es e\n",
            "La letra 55 es s\n"
          ]
        }
      ]
    },
    {
      "cell_type": "markdown",
      "source": [
        "**for in range()**\n",
        "El bucle for in range() es una forma conveniente de iterar sobre una secuencia de números en un rango específico.\n",
        "\n",
        "Nos permite ir pasando de un valor a otro.\n",
        "\n",
        "Ejercicio 1.7\n",
        "Creeemos un ciclo for in range que muestre todos los valores de 10 al 20\n",
        "\n",
        "MUCHA ATENCIÓN VEMOS QUE EL VALOR FINAL ES NO INCLUSIVO"
      ],
      "metadata": {
        "id": "HlMVXiA_Yka8"
      }
    },
    {
      "cell_type": "code",
      "source": [
        "for numero in range(10,20):\n",
        "  print(numero)"
      ],
      "metadata": {
        "colab": {
          "base_uri": "https://localhost:8080/"
        },
        "id": "CQ8OnusRYrj6",
        "outputId": "6063098d-39fc-4c9c-857b-e394667f4198"
      },
      "execution_count": null,
      "outputs": [
        {
          "output_type": "stream",
          "name": "stdout",
          "text": [
            "10\n",
            "11\n",
            "12\n",
            "13\n",
            "14\n",
            "15\n",
            "16\n",
            "17\n",
            "18\n",
            "19\n"
          ]
        }
      ]
    },
    {
      "cell_type": "markdown",
      "source": [
        "Ejercicio 1.8\n",
        "Una ventaja de los ciclos for es que podemos indicarle cada cuanto queremos que sean estos saltos\n",
        "\n",
        "Creemos un código que muestre los primeros 6 numeros pares (sin incluir el cero)"
      ],
      "metadata": {
        "id": "RokM1YZrY98F"
      }
    },
    {
      "cell_type": "code",
      "source": [
        "for valoresPares in range(2,14,2):\n",
        "  print(valoresPares)"
      ],
      "metadata": {
        "colab": {
          "base_uri": "https://localhost:8080/"
        },
        "id": "PZP9ZeTaZASn",
        "outputId": "f53a13e6-093c-475d-c29a-6fd991922699"
      },
      "execution_count": null,
      "outputs": [
        {
          "output_type": "stream",
          "name": "stdout",
          "text": [
            "2\n",
            "4\n",
            "6\n",
            "8\n",
            "10\n",
            "12\n"
          ]
        }
      ]
    },
    {
      "cell_type": "markdown",
      "source": [
        "Ejercicio 1.9\n",
        "Otra opcion es recorrer hacia atras.\n",
        "\n",
        "Recorramos los numeros desde -5 hasta -15"
      ],
      "metadata": {
        "id": "UAkdcjYVZf3V"
      }
    },
    {
      "cell_type": "code",
      "source": [
        "for numerosNegativos in range(-5, -16, -1):\n",
        "  print(numerosNegativos)"
      ],
      "metadata": {
        "colab": {
          "base_uri": "https://localhost:8080/"
        },
        "id": "913MPysqZh_0",
        "outputId": "3f00b943-cf06-4e22-86e4-29cc97d6ea08"
      },
      "execution_count": null,
      "outputs": [
        {
          "output_type": "stream",
          "name": "stdout",
          "text": [
            "-5\n",
            "-6\n",
            "-7\n",
            "-8\n",
            "-9\n",
            "-10\n",
            "-11\n",
            "-12\n",
            "-13\n",
            "-14\n",
            "-15\n"
          ]
        }
      ]
    },
    {
      "cell_type": "markdown",
      "source": [
        "**COLECCIONES DE DATOS**\n",
        "En python ademas de los tipos de datos \"normales\" que ya vimos, existen las llamadas colecciones de datos. Las cuales son estructuras que contienen varios datos, hay de diferentes formas y son muy utiles.\n",
        "\n",
        "list\n",
        "Las listas se definen con [] y los valores se separan por ,\n",
        "\n",
        "Las listas permiten guardar diferentes tipos de datos, en un solo objeto."
      ],
      "metadata": {
        "id": "ytXMPr3pZ4jC"
      }
    },
    {
      "cell_type": "markdown",
      "source": [
        "Ejercicio 2.0\n",
        "Creemos diferentes listas algunas con string adentro, otras con int, o mezclados.\n"
      ],
      "metadata": {
        "id": "8xvR4-gwaHOv"
      }
    },
    {
      "cell_type": "code",
      "source": [
        "listaNombres = [\"romina\", \"andres\", \"maria\"]\n",
        "listaNumerica = [15, 6, 8.9, -5.5]\n",
        "listaMezclada = [\"azul\", 1, False, \"programar\", 8.8]\n"
      ],
      "metadata": {
        "id": "IHhcISVmaLUX"
      },
      "execution_count": null,
      "outputs": []
    },
    {
      "cell_type": "markdown",
      "source": [
        "Ejercicio 2.1\n",
        "Un aspecto muy importante es que si queremos acceder a un valor de una lista podemos hacer mediante su numero de indice, es decir, la posición que toma su valor.\n",
        "\n",
        "El primer elemento de una lista tiene un indice 0"
      ],
      "metadata": {
        "id": "wXubgfbkgTV9"
      }
    },
    {
      "cell_type": "code",
      "source": [
        "listaApellidos = [\"gutierrez\", \"perez\",\"muñoz\",\"garcia\"]\n",
        "\n",
        "print(\"El 1er apellido de la lista tiene indice 0 y es:\", listaApellidos[0])\n",
        "print(\"El 3er apellido de la lista tiene indice 2 y es:\", listaApellidos[2])"
      ],
      "metadata": {
        "colab": {
          "base_uri": "https://localhost:8080/"
        },
        "id": "yinSOcXqgWBS",
        "outputId": "fafaa73b-e2e0-4b12-f6a1-5ddbf051efd0"
      },
      "execution_count": null,
      "outputs": [
        {
          "output_type": "stream",
          "name": "stdout",
          "text": [
            "El 1er apellido de la lista tiene indice 0 y es: gutierrez\n",
            "El 3er apellido de la lista tiene indice 2 y es: muñoz\n"
          ]
        }
      ]
    },
    {
      "cell_type": "markdown",
      "source": [
        "**Acciones con listas**\n",
        "Con las listas podemos utilizar las siguientes acciones\n",
        "\n",
        "Append: Agrega un elemento al final de la lista, append()\n",
        "Extend: Añade una lista a una lista preexistente, extend()\n",
        "Insert: Agrega un elemento en el índice determinado, insert()\n",
        "Pop: Elimina un elemento al final de la lista o en un índice específico, pop()\n",
        "Remove: Elimina un elemento si consigue el elemento específico, remove()\n",
        "Sort: Ordena la lista de menor a mayor, sort()\n",
        "Reverse: Invierte el orden de la lista, reverse()"
      ],
      "metadata": {
        "id": "J5QhIEexhv7u"
      }
    },
    {
      "cell_type": "code",
      "source": [
        "miLista = []\n",
        "# Agregamos elementos al final de la lista usando append()\n",
        "miLista.append(1)\n",
        "miLista.append(\"romina\")\n",
        "miLista.append(True)\n",
        "miLista"
      ],
      "metadata": {
        "colab": {
          "base_uri": "https://localhost:8080/"
        },
        "id": "xL39lTIUh19A",
        "outputId": "9bfce684-2bd2-4f51-e01c-2e0f88bba37a"
      },
      "execution_count": null,
      "outputs": [
        {
          "output_type": "execute_result",
          "data": {
            "text/plain": [
              "[1, 'romina', True]"
            ]
          },
          "metadata": {},
          "execution_count": 43
        }
      ]
    },
    {
      "cell_type": "code",
      "source": [
        "lista1 = [1, 2, 3]\n",
        "lista2 = [4, 5, 6]\n",
        "print(lista1)\n",
        "#Añadimos lista2 a lista1 usando extend()\n",
        "lista1.extend(lista2)\n",
        "lista1"
      ],
      "metadata": {
        "colab": {
          "base_uri": "https://localhost:8080/"
        },
        "id": "vwbOO17eiWwF",
        "outputId": "3463415f-5cd5-4355-9b82-1dda87c90d6e"
      },
      "execution_count": null,
      "outputs": [
        {
          "output_type": "stream",
          "name": "stdout",
          "text": [
            "[1, 2, 3]\n"
          ]
        },
        {
          "output_type": "execute_result",
          "data": {
            "text/plain": [
              "[1, 2, 3, 4, 5, 6]"
            ]
          },
          "metadata": {},
          "execution_count": 45
        }
      ]
    },
    {
      "cell_type": "code",
      "source": [
        "#insertamos un elemento en el índice 1\n",
        "lista1.insert(1,4)\n",
        "lista1\n"
      ],
      "metadata": {
        "colab": {
          "base_uri": "https://localhost:8080/"
        },
        "id": "eOCddGePjms4",
        "outputId": "811938e2-8031-4b69-bd98-9c681690fd20"
      },
      "execution_count": null,
      "outputs": [
        {
          "output_type": "execute_result",
          "data": {
            "text/plain": [
              "[4, 4, 4, 4, 4, 4, 4, 1, 4, 2, 3, 4, 5, 6]"
            ]
          },
          "metadata": {},
          "execution_count": 55
        }
      ]
    },
    {
      "cell_type": "code",
      "source": [
        "#Eliminamos el último elemento usando pop()\n",
        "lista1.pop()\n",
        "lista1"
      ],
      "metadata": {
        "colab": {
          "base_uri": "https://localhost:8080/"
        },
        "id": "pB7TPxmqj52v",
        "outputId": "9908555c-a6f3-42ca-c73e-bb2dbc6f1ef7"
      },
      "execution_count": null,
      "outputs": [
        {
          "output_type": "execute_result",
          "data": {
            "text/plain": [
              "[4, 4, 4, 4, 4, 4, 4, 1, 4, 2, 3, 4, 5]"
            ]
          },
          "metadata": {},
          "execution_count": 56
        }
      ]
    },
    {
      "cell_type": "code",
      "source": [
        "#Eliminamos el elemento 4 de la lista\n",
        "lista1.remove(4)\n",
        "lista1"
      ],
      "metadata": {
        "colab": {
          "base_uri": "https://localhost:8080/"
        },
        "id": "pnr1wzGCkCPJ",
        "outputId": "3cc75c6b-a147-4066-a7d4-cebdc447e5a5"
      },
      "execution_count": null,
      "outputs": [
        {
          "output_type": "execute_result",
          "data": {
            "text/plain": [
              "[1, 2, 3, 4, 5]"
            ]
          },
          "metadata": {},
          "execution_count": 65
        }
      ]
    },
    {
      "cell_type": "code",
      "source": [
        "#Creamos una lista desordenada\n",
        "listaDesordenada = [3,1,4,2]\n",
        "#Ordenamos la lista usando sort()\n",
        "listaDesordenada.sort()\n",
        "listaDesordenada"
      ],
      "metadata": {
        "colab": {
          "base_uri": "https://localhost:8080/"
        },
        "id": "-KbNIISykXdF",
        "outputId": "63ac6c0c-ec94-4b78-fcb6-5831306cd3da"
      },
      "execution_count": null,
      "outputs": [
        {
          "output_type": "execute_result",
          "data": {
            "text/plain": [
              "[1, 2, 3, 4]"
            ]
          },
          "metadata": {},
          "execution_count": 67
        }
      ]
    },
    {
      "cell_type": "code",
      "source": [],
      "metadata": {
        "id": "2XayYmYVkg8-"
      },
      "execution_count": null,
      "outputs": []
    },
    {
      "cell_type": "code",
      "source": [
        "#Invertimos el orden de la lista usando reverse()\n",
        "listaDesordenada.reverse()\n",
        "listaDesordenada"
      ],
      "metadata": {
        "colab": {
          "base_uri": "https://localhost:8080/"
        },
        "id": "S_U8QRu0krmD",
        "outputId": "aa240598-30ef-411b-d8e7-551fed4bbb9b"
      },
      "execution_count": null,
      "outputs": [
        {
          "output_type": "execute_result",
          "data": {
            "text/plain": [
              "[4, 3, 2, 1]"
            ]
          },
          "metadata": {},
          "execution_count": 68
        }
      ]
    },
    {
      "cell_type": "markdown",
      "source": [
        "Ejercicio 2.2\n",
        "Creemos 3 listas:\n",
        "\n",
        "Una con 5 valores numericos\n",
        "Una con 3 frutas\n",
        "Una con los datos personales nombre, edad, condicion_booleana_es_profesor, lenguaje_de_programacion\n",
        "Y utilicemos las siguientes acciones para listas con ejemplos:\n",
        "\n",
        "append\n",
        "extend\n",
        "insert\n",
        "pop\n",
        "remove\n",
        "sort\n",
        "reverse\n"
      ],
      "metadata": {
        "id": "-skhm9jhlQjo"
      }
    },
    {
      "cell_type": "code",
      "source": [
        "listaValoresNumericos = [28, 20, -46, 10, 7]\n",
        "listaFrutas = [\"manzana\", \"banana\", \"pera\"]\n",
        "listaDatosPersonales = [\"romina\", 28, False, \"python\"]\n",
        "\n",
        "type(listaDatosPersonales)\n",
        "\n",
        "#Agregar un valor al final de la lista utilizando append\n",
        "listaValoresNumericos.append(100)\n",
        "listaValoresNumericos\n",
        "\n",
        "# Extender la lista de frutas con otra lista\n",
        "listaFrutas.extend([\"uva\", \"kiwi\"])\n",
        "listaFrutas\n",
        "\n",
        "#Insertar un elemento en una posición específica\n",
        "listaFrutas.insert(2, \"sandia\")\n",
        "listaFrutas\n",
        "\n",
        "#Eliminar la primera ocurrencia de un elemento\n",
        "listaFrutas.remove(\"kiwi\")\n",
        "listaFrutas\n",
        "\n",
        "#Ordenar la lista de valores numéricos de forma ascendente\n",
        "listaValoresNumericos.sort()\n",
        "listaValoresNumericos\n",
        "\n"
      ],
      "metadata": {
        "colab": {
          "base_uri": "https://localhost:8080/"
        },
        "id": "Cz1HTK4GlTQL",
        "outputId": "952617cd-2169-4051-94b5-de442b7055f4"
      },
      "execution_count": null,
      "outputs": [
        {
          "output_type": "execute_result",
          "data": {
            "text/plain": [
              "[-46, 7, 10, 20, 28, 100]"
            ]
          },
          "metadata": {},
          "execution_count": 79
        }
      ]
    },
    {
      "cell_type": "code",
      "source": [
        "listaFrutas.reverse()#\"Revertir el orde la lista de frutas\"\n",
        "listaFrutas"
      ],
      "metadata": {
        "colab": {
          "base_uri": "https://localhost:8080/"
        },
        "id": "PuoCg5BPl6aN",
        "outputId": "10c09c51-9ace-4da7-bacc-7879d54db312"
      },
      "execution_count": null,
      "outputs": [
        {
          "output_type": "execute_result",
          "data": {
            "text/plain": [
              "['manzana', 'banana', 'sandia', 'pera', 'uva']"
            ]
          },
          "metadata": {},
          "execution_count": 81
        }
      ]
    },
    {
      "cell_type": "markdown",
      "source": [
        "**len()**\n",
        "Una función muy util y que debemos tener en cuenta es la función len la cual devuelve el tamaño o cantidad de valores en esta"
      ],
      "metadata": {
        "id": "P2XWXFz6nXFE"
      }
    },
    {
      "cell_type": "code",
      "source": [
        "listaDe5Valores = [\"Primer Valor\", 2, True, \"4to Valor\", 5.0]\n",
        "len(listaDe5Valores)"
      ],
      "metadata": {
        "colab": {
          "base_uri": "https://localhost:8080/"
        },
        "id": "CL0oOrSWnbNJ",
        "outputId": "7b34ae7f-d3e7-41ae-e7e2-cad024b48f8e"
      },
      "execution_count": null,
      "outputs": [
        {
          "output_type": "execute_result",
          "data": {
            "text/plain": [
              "5"
            ]
          },
          "metadata": {},
          "execution_count": 82
        }
      ]
    },
    {
      "cell_type": "markdown",
      "source": [
        "**tuple**\n",
        "Las listas se definen con () y los valores se separan por ,\n",
        "\n",
        "Las tuplas son muy parecidas a las listas, pero con una gran diferencia. Son inmutables, es decir, no pueden ser alteradas despues de su creación.\n",
        "\n",
        "Una caracteristica de las tuplas es que permiten valores duplicados"
      ],
      "metadata": {
        "id": "UZPgL3rMoWVQ"
      }
    },
    {
      "cell_type": "markdown",
      "source": [
        "Ejercicio 2.3\n",
        "Veamos un ejemplo de tupla, donde vamos a poner 4 vehiculos. Y veremos que usando el indice podemos acceder a cada uno de los valores."
      ],
      "metadata": {
        "id": "O-lcmO1lobW0"
      }
    },
    {
      "cell_type": "code",
      "source": [
        "tuplaVehiculos = (\"auto\", \"moto\", \"camion\", \"bicicleta\")\n",
        "\n",
        "print(\"El 1er vehiculo de la lista tiene indice 0 y es:\",tuplaVehiculos[0])\n",
        "print(\"El 4to vehiculo de la lista tiene indice 3 y es:\",tuplaVehiculos[3])"
      ],
      "metadata": {
        "colab": {
          "base_uri": "https://localhost:8080/"
        },
        "id": "D2vFB8PtodW5",
        "outputId": "4c00773a-56f0-4b4c-e0cf-860d1c88033b"
      },
      "execution_count": null,
      "outputs": [
        {
          "output_type": "stream",
          "name": "stdout",
          "text": [
            "El 1er vehiculo de la lista tiene indice 0 y es: auto\n",
            "El 4to vehiculo de la lista tiene indice 3 y es: bicicleta\n"
          ]
        }
      ]
    },
    {
      "cell_type": "code",
      "source": [
        "type(tuplaVehiculos)"
      ],
      "metadata": {
        "colab": {
          "base_uri": "https://localhost:8080/"
        },
        "id": "Bmd_ZRdwpCgo",
        "outputId": "d1e1f39e-ec17-4466-f0e7-8d1d66538007"
      },
      "execution_count": null,
      "outputs": [
        {
          "output_type": "execute_result",
          "data": {
            "text/plain": [
              "tuple"
            ]
          },
          "metadata": {},
          "execution_count": 84
        }
      ]
    },
    {
      "cell_type": "markdown",
      "source": [
        "**Acciones con tuplas**\n",
        "Con las tuplas podemos realizar las siguientes acciones:\n",
        "\n",
        "Count: Identifica cuántas veces existe un elemento dentro de la tupla, count()\n",
        "Index: Devuelve el índice del elemento determinado, index()"
      ],
      "metadata": {
        "id": "4FlU2RMSpILF"
      }
    },
    {
      "cell_type": "markdown",
      "source": [
        "Ejercicio 2.4\n",
        "Creemos una tupla con verduras y veamos como usar count e index"
      ],
      "metadata": {
        "id": "4u-q5CympKyF"
      }
    },
    {
      "cell_type": "code",
      "source": [
        "tuplaVerduras = (\"acelga\", \"papa\", \"calabaza\", \"cebolla\", \"papa\")\n",
        "\n",
        "#Encontrar el indice de \"calabaza\" en la tupla\n",
        "indiceDeCalabaza = tuplaVerduras.index(\"calabaza\")\n",
        "print(\"El índice de 'calabaza' es:\", indiceDeCalabaza)"
      ],
      "metadata": {
        "colab": {
          "base_uri": "https://localhost:8080/"
        },
        "id": "fxi-pGP9pM_3",
        "outputId": "31de991c-2400-4711-c9f0-7f0ca87cb183"
      },
      "execution_count": null,
      "outputs": [
        {
          "output_type": "stream",
          "name": "stdout",
          "text": [
            "El índice de 'calabaza' es: 2\n"
          ]
        }
      ]
    },
    {
      "cell_type": "code",
      "source": [
        "# Contar cuántas veces aparece \"papa\" en la tupla\n",
        "cantidadDePapa = tuplaVerduras.count(\"papa\")\n",
        "print(\"El número de veces que 'papa' aparece es:\", cantidadDePapa)"
      ],
      "metadata": {
        "colab": {
          "base_uri": "https://localhost:8080/"
        },
        "id": "zAjQkUrGpucu",
        "outputId": "142e4595-84dc-4e5b-e8ad-dc0b37e82685"
      },
      "execution_count": null,
      "outputs": [
        {
          "output_type": "stream",
          "name": "stdout",
          "text": [
            "El número de veces que 'papa' aparece es: 2\n"
          ]
        }
      ]
    },
    {
      "cell_type": "markdown",
      "source": [
        "set\n",
        "Los set de datos son similares a las tuplas ya que no permiten reordenar los valor.\n",
        "\n",
        "Pero su principal diferencia es que no puede haber duplicados, en cambio, si permiten quitar y poner elementos"
      ],
      "metadata": {
        "id": "V4stCL82QmC7"
      }
    },
    {
      "cell_type": "markdown",
      "source": [
        "Ejercicio 2.5\n",
        "El principal uso que vamos a darle a set es cuando tengamos muchos valores repetidos en una lista, y queramos tener un conjunto de datos con los valores únicos sin repetirse con el orden de aparición.\n",
        "\n",
        "Creemos una lista con valores numéricos entre los cuales tengamos números repetidos, con set creemos un \"set\" de números únicos."
      ],
      "metadata": {
        "id": "QkR64ndYQoVf"
      }
    },
    {
      "cell_type": "code",
      "source": [
        "listaValoresRepetidos = (87,31,2,2,3,3,1,5,4,3,23,23,12,9,8,99,11,56,26,23,71,15,124,8,1,3,1,9,49,1,5,1)\n",
        "listaValoresRepetidos"
      ],
      "metadata": {
        "colab": {
          "base_uri": "https://localhost:8080/"
        },
        "id": "woQsvQHpQq1h",
        "outputId": "cb725d24-1d75-477e-f412-ef29c712989d"
      },
      "execution_count": null,
      "outputs": [
        {
          "output_type": "execute_result",
          "data": {
            "text/plain": [
              "(87,\n",
              " 31,\n",
              " 2,\n",
              " 2,\n",
              " 3,\n",
              " 3,\n",
              " 1,\n",
              " 5,\n",
              " 4,\n",
              " 3,\n",
              " 23,\n",
              " 23,\n",
              " 12,\n",
              " 9,\n",
              " 8,\n",
              " 99,\n",
              " 11,\n",
              " 56,\n",
              " 26,\n",
              " 23,\n",
              " 71,\n",
              " 15,\n",
              " 124,\n",
              " 8,\n",
              " 1,\n",
              " 3,\n",
              " 1,\n",
              " 9,\n",
              " 49,\n",
              " 1,\n",
              " 5,\n",
              " 1)"
            ]
          },
          "metadata": {},
          "execution_count": 1
        }
      ]
    },
    {
      "cell_type": "code",
      "source": [
        "conjuntoUnicos = set(listaValoresRepetidos)#Con set convierto a mi lista a valores sin repetir\n",
        "\n",
        "#imprimir los elementos únicos\n",
        "print(\"Elementos únicos:\",conjuntoUnicos)"
      ],
      "metadata": {
        "colab": {
          "base_uri": "https://localhost:8080/"
        },
        "id": "RS1_hWBmROqk",
        "outputId": "3843467b-13aa-411e-ef6c-a7333adb677f"
      },
      "execution_count": null,
      "outputs": [
        {
          "output_type": "stream",
          "name": "stdout",
          "text": [
            "Elementos únicos: {1, 2, 3, 4, 5, 8, 9, 11, 12, 15, 23, 26, 31, 49, 56, 71, 87, 99, 124}\n"
          ]
        }
      ]
    },
    {
      "cell_type": "code",
      "source": [
        "type(conjuntoUnicos)"
      ],
      "metadata": {
        "colab": {
          "base_uri": "https://localhost:8080/"
        },
        "id": "2YoGsWQsRhGN",
        "outputId": "b1e4f971-94d4-4ce7-dbd0-10e42b7e60d7"
      },
      "execution_count": null,
      "outputs": [
        {
          "output_type": "execute_result",
          "data": {
            "text/plain": [
              "set"
            ]
          },
          "metadata": {},
          "execution_count": 3
        }
      ]
    },
    {
      "cell_type": "markdown",
      "source": [
        "dict()\n",
        "Los diccionarios se definen con {} y los elementos se separan por , pero para separa la clave del valor usamos :\n",
        "\n",
        "Los diccionarios tienen la caracteristica de guardar valores con un sistema de clave valor, es decir, voy a almacenar información pero esta va a tener un clave (como un nombre interno)"
      ],
      "metadata": {
        "id": "OoDf_49FRwJ2"
      }
    },
    {
      "cell_type": "markdown",
      "source": [
        "Ejercicio 2.6\n",
        "Creemos un diccionario con informacion personal y veamos como acceder a un valor"
      ],
      "metadata": {
        "id": "lClvWpauRyHF"
      }
    },
    {
      "cell_type": "code",
      "source": [
        "informacionRomina = {\n",
        "    \"nombre\" : \"Romina\",\n",
        "    \"apellido\": \"Gutierrez\",\n",
        "    \"edad\": 28,\n",
        "    \"esProfesor\": False ,\n",
        "    \"esAlumno\":True\n",
        "}\n",
        "\n",
        "informacionRomina\n",
        "\n"
      ],
      "metadata": {
        "colab": {
          "base_uri": "https://localhost:8080/"
        },
        "id": "e0sT2MsSR1sd",
        "outputId": "302bb610-0358-45df-e37c-0d34a7d0db49"
      },
      "execution_count": null,
      "outputs": [
        {
          "output_type": "execute_result",
          "data": {
            "text/plain": [
              "{'nombre': 'Romina',\n",
              " 'apellido': 'Gutierrez',\n",
              " 'edad': 28,\n",
              " 'esProfesor': False,\n",
              " 'esAlumno': True}"
            ]
          },
          "metadata": {},
          "execution_count": 9
        }
      ]
    },
    {
      "cell_type": "code",
      "source": [
        "type(informacionRomina)"
      ],
      "metadata": {
        "colab": {
          "base_uri": "https://localhost:8080/"
        },
        "id": "1Tg5uXO4SO35",
        "outputId": "c40bbaec-e38d-4c38-c629-76771c994cac"
      },
      "execution_count": null,
      "outputs": [
        {
          "output_type": "execute_result",
          "data": {
            "text/plain": [
              "dict"
            ]
          },
          "metadata": {},
          "execution_count": 7
        }
      ]
    },
    {
      "cell_type": "markdown",
      "source": [
        "Acciones con diccionarios\n",
        "Get: Devuelve un elemento a través de su key, sino lo encuentra se le pueda dar un valor por default, get()\n",
        "Keys: Devuelve todas las keys de un diccionario, keys()\n",
        "Values: Devuelve todos los values de un diccionario, values()\n",
        "Items: Devuelve todos los pares de key/values de un diccionario, items()\n",
        "Pop: Elimina un elemento del diccionario a partir de su key, pop()\n",
        "Clear: Elimina todos los elementos del diccionario, clear()"
      ],
      "metadata": {
        "id": "CHVEgdJASUr3"
      }
    },
    {
      "cell_type": "markdown",
      "source": [
        "Ejercicio 2.7\n",
        "Con la lista creada anteriores probemos a usar las diferentes acciones disponibles"
      ],
      "metadata": {
        "id": "V_XKlvoeSabI"
      }
    },
    {
      "cell_type": "code",
      "source": [
        "#Ejemplo de uso de get()\n",
        "apellidoPersona = informacionRomina.get(\"apellido\")\n",
        "print(\"Apellido\",apellidoPersona)"
      ],
      "metadata": {
        "colab": {
          "base_uri": "https://localhost:8080/"
        },
        "id": "WgZD_im3SfWL",
        "outputId": "531fc1a7-d602-465f-8641-d0de24870c5e"
      },
      "execution_count": null,
      "outputs": [
        {
          "output_type": "stream",
          "name": "stdout",
          "text": [
            "Apellido Gutierrez\n"
          ]
        }
      ]
    },
    {
      "cell_type": "code",
      "source": [
        "#Ejemplo de uso de get() con valor por default\n",
        "telefonoPersona = informacionRomina.get(\"telefono\", \"No disponible\")\n",
        "print(\"Teléfono:\", telefonoPersona)"
      ],
      "metadata": {
        "colab": {
          "base_uri": "https://localhost:8080/"
        },
        "id": "oe_uZduGS09F",
        "outputId": "310d66d5-8353-48f9-f0b0-c0745b592841"
      },
      "execution_count": null,
      "outputs": [
        {
          "output_type": "stream",
          "name": "stdout",
          "text": [
            "Teléfono: No disponible\n"
          ]
        }
      ]
    },
    {
      "cell_type": "code",
      "source": [
        "#Ejemplos de uso de keys()\n",
        "keysDiccionario = informacionRomina.keys()\n",
        "print(\"Keys:\",keysDiccionario)"
      ],
      "metadata": {
        "colab": {
          "base_uri": "https://localhost:8080/"
        },
        "id": "OSBNuXh9TQpj",
        "outputId": "0651c58c-e1bf-4afd-b2f8-442bad6bd7ca"
      },
      "execution_count": null,
      "outputs": [
        {
          "output_type": "stream",
          "name": "stdout",
          "text": [
            "Keys: dict_keys(['nombre', 'apellido', 'edad', 'esProfesor', 'esAlumno'])\n"
          ]
        }
      ]
    },
    {
      "cell_type": "code",
      "source": [
        "#Ejemplo de uso de values()\n",
        "valuesDiccionario = informacionRomina.values()\n",
        "print(\"Values:\",valuesDiccionario)"
      ],
      "metadata": {
        "colab": {
          "base_uri": "https://localhost:8080/"
        },
        "id": "qJksbz6cTfar",
        "outputId": "6c43d815-af35-4d8d-cc67-59e58b867f99"
      },
      "execution_count": null,
      "outputs": [
        {
          "output_type": "stream",
          "name": "stdout",
          "text": [
            "Values: dict_values(['Romina', 'Gutierrez', 28, False, True])\n"
          ]
        }
      ]
    },
    {
      "cell_type": "code",
      "source": [
        "#Ejemplo de uso de items()\n",
        "itemsDiccionario = informacionRomina.items()\n",
        "print(\"Items:\",itemsDiccionario)"
      ],
      "metadata": {
        "colab": {
          "base_uri": "https://localhost:8080/"
        },
        "id": "qwEAEAbeT3c2",
        "outputId": "d5215e71-e58c-4337-f3da-22640575587a"
      },
      "execution_count": null,
      "outputs": [
        {
          "output_type": "stream",
          "name": "stdout",
          "text": [
            "Items: dict_items([('nombre', 'Romina'), ('apellido', 'Gutierrez'), ('edad', 28), ('esProfesor', False), ('esAlumno', True)])\n"
          ]
        }
      ]
    },
    {
      "cell_type": "code",
      "source": [
        "#Ejemplo de uso de clear()\n",
        "informacionRomina.clear()\n",
        "print(\"Diccionario después de clear:\",informacionRomina)"
      ],
      "metadata": {
        "colab": {
          "base_uri": "https://localhost:8080/"
        },
        "id": "KCjUSpCdUIE7",
        "outputId": "0c190323-bf67-4067-a82e-9eae48d9d67e"
      },
      "execution_count": null,
      "outputs": [
        {
          "output_type": "stream",
          "name": "stdout",
          "text": [
            "Diccionario después de clear: {}\n"
          ]
        }
      ]
    }
  ]
}