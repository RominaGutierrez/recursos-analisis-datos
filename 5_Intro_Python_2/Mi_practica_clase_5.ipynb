{
 "cells": [
  {
   "cell_type": "markdown",
   "id": "ff1894fe-f7fe-47e1-92f3-e257828d3a9f",
   "metadata": {},
   "source": [
    "Ejercicio 1.1 Comparando dos valores numericos"
   ]
  },
  {
   "cell_type": "code",
   "execution_count": 2,
   "id": "4e945255-0701-4694-ac50-304e4e3cdda6",
   "metadata": {},
   "outputs": [],
   "source": [
    "primerValor = 10 #Defino la primer variable"
   ]
  },
  {
   "cell_type": "code",
   "execution_count": 3,
   "id": "675550bc-b538-41ad-92dd-8cf783a27350",
   "metadata": {},
   "outputs": [],
   "source": [
    "segundoValor = 12 #Defino la segunda variable"
   ]
  },
  {
   "cell_type": "code",
   "execution_count": 5,
   "id": "408991cc-71ee-4f68-985d-7cfb01ab4018",
   "metadata": {},
   "outputs": [],
   "source": [
    "if primerValor > segundoValor:\n",
    "    print('El primer valor es más grande que el segundo valor')"
   ]
  },
  {
   "cell_type": "code",
   "execution_count": 6,
   "id": "31c05bca-7ef9-48ae-a068-a16d2343d2b0",
   "metadata": {},
   "outputs": [],
   "source": [
    "primerValor = 8"
   ]
  },
  {
   "cell_type": "code",
   "execution_count": 7,
   "id": "a4f5873e-986e-4b51-8315-fbf41eb27699",
   "metadata": {},
   "outputs": [],
   "source": [
    "segundoValor = 5"
   ]
  },
  {
   "cell_type": "code",
   "execution_count": 10,
   "id": "854d2d6b-760c-4fd4-af7f-0716b3b583b9",
   "metadata": {},
   "outputs": [
    {
     "name": "stdout",
     "output_type": "stream",
     "text": [
      "El primer valor es más grande que el segundo valor\n"
     ]
    }
   ],
   "source": [
    "if primerValor > segundoValor:\n",
    "    print('El primer valor es más grande que el segundo valor')"
   ]
  },
  {
   "cell_type": "markdown",
   "id": "1cc0075e-2669-400f-86dc-e9ac58897754",
   "metadata": {},
   "source": [
    "Ejercicio 1.2\r\n",
    "Creemos un código que detecte cuando una persona es mayor de edad, ahora definamos usando else que hacer cuando no se cumple mi if"
   ]
  },
  {
   "cell_type": "code",
   "execution_count": 15,
   "id": "cdb4d19c-26fb-42e0-8248-2d3914c75c56",
   "metadata": {},
   "outputs": [
    {
     "name": "stdout",
     "output_type": "stream",
     "text": [
      "Es mayor de edad\n"
     ]
    }
   ],
   "source": [
    "edad = 28\n",
    "if edad >= 18:\n",
    "    print('Es mayor de edad')\n",
    "else:\n",
    "    print('Es menor de edad')"
   ]
  },
  {
   "cell_type": "markdown",
   "id": "bde13c74-1e27-47f5-8c82-3eea1c008cbc",
   "metadata": {},
   "source": [
    "Ejercicio 1.3\r\n",
    "Podemos usar booleanos con los if"
   ]
  },
  {
   "cell_type": "code",
   "execution_count": 22,
   "id": "644f8da5-8dab-4279-8f3b-28c0c404d743",
   "metadata": {},
   "outputs": [
    {
     "name": "stdout",
     "output_type": "stream",
     "text": [
      "Buenos días profesor\n"
     ]
    }
   ],
   "source": [
    "profesor = True\n",
    "\n",
    "if profesor == True:\n",
    "    print('Buenos días profesor')\n",
    "else :\n",
    "    print('Usted no es el profesor')"
   ]
  },
  {
   "cell_type": "markdown",
   "id": "f657194e-7e30-4588-979d-26cfc6f8635b",
   "metadata": {},
   "source": [
    "Ejercicio 1.4\r\n",
    "Con python al trabajar con booleanos en los if podemos aplicar un truquito para reducir el código"
   ]
  },
  {
   "cell_type": "code",
   "execution_count": 24,
   "id": "ca8a9f13-9a7f-46f3-8ba7-f20fd0eebd27",
   "metadata": {},
   "outputs": [
    {
     "name": "stdout",
     "output_type": "stream",
     "text": [
      "Usted no es el coordinador\n"
     ]
    }
   ],
   "source": [
    "coordinador = False\n",
    "\n",
    "if coordinador :\n",
    "    print('Buenos días coordinador')\n",
    "else :\n",
    "    print('Usted no es el coordinador')"
   ]
  },
  {
   "cell_type": "markdown",
   "id": "5ff72f95-9747-40aa-82d0-4a673643f34b",
   "metadata": {},
   "source": [
    "Ejercicio 1.5\r\n",
    "Tambien podemos aplicar los if en conjunto con strings"
   ]
  },
  {
   "cell_type": "code",
   "execution_count": 25,
   "id": "76ecbfd4-809c-4860-bf9f-69d6d71afec4",
   "metadata": {},
   "outputs": [
    {
     "name": "stdout",
     "output_type": "stream",
     "text": [
      "Usted es argentino\n"
     ]
    }
   ],
   "source": [
    "nacionalidad = 'argentina'\n",
    "\n",
    "if nacionalidad == 'argentina' :\n",
    "    print('Usted es argentino')\n",
    "else :\n",
    "    print('Usted no es argentino')"
   ]
  },
  {
   "cell_type": "markdown",
   "id": "e6cd5322-7106-4e82-bb9d-169e59b0353f",
   "metadata": {},
   "source": [
    "Ejercicio 1.6\r\n",
    "Analicemos que pasa con los strings, recordemos que el termino case sensitive"
   ]
  },
  {
   "cell_type": "code",
   "execution_count": 26,
   "id": "1406dad8-e2ef-4446-b43c-afec591e8eed",
   "metadata": {},
   "outputs": [
    {
     "name": "stdout",
     "output_type": "stream",
     "text": [
      "usted no es argentino\n"
     ]
    }
   ],
   "source": [
    "nacionalidad = 'Argentina'\n",
    "\n",
    "if nacionalidad == 'argentina':\n",
    "    print('Usted es argentino')\n",
    "else :\n",
    "    print('usted no es argentino')"
   ]
  },
  {
   "cell_type": "code",
   "execution_count": 27,
   "id": "41ed07ce-9636-4fee-a82d-f607b20248ab",
   "metadata": {},
   "outputs": [
    {
     "name": "stdout",
     "output_type": "stream",
     "text": [
      "usted no es argentino\n"
     ]
    }
   ],
   "source": [
    "nacionalidad = 'ARGENTINA'\n",
    "\n",
    "if nacionalidad == 'argentina':\n",
    "    print('Usted es argentino')\n",
    "else :\n",
    "    print('usted no es argentino')"
   ]
  },
  {
   "cell_type": "markdown",
   "id": "86849a47-6b71-4839-bedf-c79006c88c4e",
   "metadata": {},
   "source": [
    "Ejercicio 1.7\r\n",
    "Podemos aplicar diferentes condiciones, que se vallan ejecutando cuando la anterior fue rechazada.\r\n",
    "\r\n",
    "Para ello utilizaremos elif que seria como un nuevo if (es decir una nueva condición lógica) despues de otra anterior"
   ]
  },
  {
   "cell_type": "code",
   "execution_count": 30,
   "id": "c6d4147f-1516-49e5-a40f-3e22c8eadc0b",
   "metadata": {},
   "outputs": [
    {
     "name": "stdout",
     "output_type": "stream",
     "text": [
      "Es esta veterinaria solo atendemos perros y gatos\n"
     ]
    }
   ],
   "source": [
    "tipoAnimal = \"Conejo\"\n",
    "\n",
    "if tipoAnimal == \"perro\" :\n",
    "    print(\"En esta veterinaria si atendemos perros\")\n",
    "elif tipoAnimal == \"gato\":\n",
    "    print(\"En esta veterinaria si atendemos gatos\")\n",
    "else :\n",
    "    print(\"Es esta veterinaria solo atendemos perros y gatos\")"
   ]
  },
  {
   "cell_type": "markdown",
   "id": "9d4636bc-8be5-41e7-bb33-46d3a537a092",
   "metadata": {},
   "source": [
    "\r\n",
    "Ejercicio 1.8\r\n",
    "No hay límite de elif a utilizar, por lo que podemos aplicar varios"
   ]
  },
  {
   "cell_type": "code",
   "execution_count": 35,
   "id": "dec62630-a2b5-4be6-a9cb-7dda64b8fe37",
   "metadata": {},
   "outputs": [
    {
     "name": "stdout",
     "output_type": "stream",
     "text": [
      "Color primario seleccionado: rojo\n"
     ]
    }
   ],
   "source": [
    "colorPrimario = \"rojo\"\n",
    "\n",
    "if colorPrimario == \"azul\":\n",
    "    print(\"Color primario seleccionado: azul\")\n",
    "elif colorPrimario == \"rojo\":\n",
    "    print(\"Color primario seleccionado: rojo\")\n",
    "elif colorPrimario == \"amarillo\":\n",
    "    print(\"Color primario seleccionado: amarillo\")\n",
    "else :\n",
    "    print(\"No a seleccionado un color primario\")"
   ]
  },
  {
   "cell_type": "markdown",
   "id": "9bc18e6a-c050-4013-bf2f-86f2a03a4903",
   "metadata": {},
   "source": [
    "Ejercicio 1.9\r\n",
    "Puedo anidar condiciones if una adentro de otra si es necesario"
   ]
  },
  {
   "cell_type": "code",
   "execution_count": 44,
   "id": "9b0265e0-10ad-4896-8624-ebec566f40f0",
   "metadata": {},
   "outputs": [
    {
     "name": "stdout",
     "output_type": "stream",
     "text": [
      "Usted es mayor de edad\n",
      "Se encuentra en edad jubilatoria\n"
     ]
    }
   ],
   "source": [
    "edad = 65\n",
    "\n",
    "if edad > 18 :\n",
    "    print(\"Usted es mayor de edad\")\n",
    "\n",
    "    if edad < 65:\n",
    "        print(\"Se encuentra en edad laboral\")\n",
    "    else:\n",
    "        print(\"Se encuentra en edad jubilatoria\")\n",
    "else: \n",
    "    print(\"Usted es menor de edad\")"
   ]
  },
  {
   "cell_type": "markdown",
   "id": "4c589763-af68-4561-842e-995b0dffcbf0",
   "metadata": {},
   "source": [
    "Ejercicio 1.10\r\n",
    "Otra posibilidad es utilizar el operado lógico AND -> &\r\n",
    "\r\n",
    "Recordemos que & obliga a que los dos miembros a cada lado obtengan una condición verdadera"
   ]
  },
  {
   "cell_type": "code",
   "execution_count": 52,
   "id": "6cd4b8ba-91e1-4256-8249-e3f2c5a31c6f",
   "metadata": {},
   "outputs": [
    {
     "name": "stdout",
     "output_type": "stream",
     "text": [
      "No se encuentra en edad jubilatoria\n"
     ]
    }
   ],
   "source": [
    "edad = 62\n",
    "genero = \"M\"\n",
    "\n",
    "if (edad >= 65) & (genero == \"M\"):\n",
    "    print(\"Usted se encuentra en edad jubilatoria\")\n",
    "elif (edad >= 62) & (genero == \"F\"):\n",
    "    print(\"Usted se encuentra en edad jubilatoria\")\n",
    "else:\n",
    "    print(\"No se encuentra en edad jubilatoria\")"
   ]
  },
  {
   "cell_type": "markdown",
   "id": "dd589b7a-0f65-4207-9c2c-f1c13c8bcb0f",
   "metadata": {},
   "source": [
    "Ejercicio 1.11\r\n",
    "Otra posibilidad es utilizar el operador lógico OR -> |\r\n",
    "\r\n",
    "Recordemos que | obliga solamente que una condición se cumpla para obtener una condición verdadera"
   ]
  },
  {
   "cell_type": "code",
   "execution_count": 57,
   "id": "87398064-520d-499f-93cb-9da6c9ad1e53",
   "metadata": {},
   "outputs": [
    {
     "name": "stdout",
     "output_type": "stream",
     "text": [
      "Es empleado\n"
     ]
    }
   ],
   "source": [
    "cargo = \"profesor\"\n",
    "\n",
    "if (cargo == \"profesor\") | (cargo == \"coordinador\"):\n",
    "    print(\"Es empleado\")\n",
    "else:\n",
    "    print(\"Es alumno\")"
   ]
  },
  {
   "cell_type": "markdown",
   "id": "b58f4cef-9943-4385-be98-ea28a487ae75",
   "metadata": {},
   "source": [
    "Ejercicio 1.12\r\n",
    "Otra posibilidad es utilizar el operador lógico NOT\r\n",
    "\r\n",
    "Recordemos que not se utiliza para negar o ver la condición contraria a lo que preguntamos"
   ]
  },
  {
   "cell_type": "code",
   "execution_count": 60,
   "id": "6b5a04ba-4ee0-4dfe-b814-6c8941991c73",
   "metadata": {},
   "outputs": [],
   "source": [
    "numeroEntero = 1\n",
    "\n",
    "if not type(numeroEntero) == int:\n",
    "    print(\"Por favor cambie el tipo de dato a entero\")"
   ]
  },
  {
   "cell_type": "markdown",
   "id": "18b68a9b-9393-473e-ae17-42f698543db9",
   "metadata": {},
   "source": [
    "FUNCIONES NATIVAS\r\n",
    "Dentro de todas las funciones nativas de python veamos algunas que podemos utilizar facilmente"
   ]
  },
  {
   "cell_type": "markdown",
   "id": "215d033e-59d0-4c51-91b5-5452b910464b",
   "metadata": {},
   "source": [
    "Ejercicio 2.1\r\n",
    "La mas simple es print()"
   ]
  },
  {
   "cell_type": "code",
   "execution_count": 63,
   "id": "e7995102-7ac6-48de-a521-9fceae9bfc72",
   "metadata": {},
   "outputs": [
    {
     "name": "stdout",
     "output_type": "stream",
     "text": [
      "Nombre: Juan \n",
      "Edad: 25\n"
     ]
    }
   ],
   "source": [
    "nombre = \"Juan\"\n",
    "edad = 25\n",
    "print(\"Nombre:\", nombre, \"\\n\" \"Edad:\", edad)"
   ]
  },
  {
   "cell_type": "markdown",
   "id": "d9b4d1cc-037f-4861-a133-8752745858d0",
   "metadata": {},
   "source": [
    "Ejercicio 2.2\r\n",
    "Repasemos type()"
   ]
  },
  {
   "cell_type": "code",
   "execution_count": 64,
   "id": "fbe269ad-7d65-48fd-b48b-cfe81e417662",
   "metadata": {},
   "outputs": [
    {
     "data": {
      "text/plain": [
       "(str, bool)"
      ]
     },
     "execution_count": 64,
     "metadata": {},
     "output_type": "execute_result"
    }
   ],
   "source": [
    "verdaderoString, verdaderoBool = \"True\", True\n",
    "type(verdaderoString), type(verdaderoBool)"
   ]
  },
  {
   "cell_type": "markdown",
   "id": "4600ed73-2a14-473f-a6ed-4e81d302bd0b",
   "metadata": {},
   "source": [
    "Ejercicio 2.3\r\n",
    "Con exec() podemos ejecutar una variable string que tenga un comando de pythono"
   ]
  },
  {
   "cell_type": "code",
   "execution_count": 72,
   "id": "e85e2360-5e4c-4ac3-a11b-be46ebc818be",
   "metadata": {},
   "outputs": [
    {
     "name": "stdout",
     "output_type": "stream",
     "text": [
      "Hola mundo\n"
     ]
    }
   ],
   "source": [
    "codigo = 'print(\"Hola mundo\")'\n",
    "codigo, type(codigo)\n",
    "#('print(\"Hola mundo\")', str) \n",
    "exec(codigo)\n"
   ]
  },
  {
   "cell_type": "markdown",
   "id": "7a5d205e-bf03-4fb9-9934-6557ccbb5fed",
   "metadata": {},
   "source": [
    "Ejercicio 2.4\r\n",
    "format() es muy util para mostrar valores cuando hacemos un print"
   ]
  },
  {
   "cell_type": "code",
   "execution_count": 74,
   "id": "02678b87-23b8-4181-a6a1-0b1d142a241b",
   "metadata": {},
   "outputs": [
    {
     "name": "stdout",
     "output_type": "stream",
     "text": [
      "Mi nombre es Romina y tengo 28 años. \n",
      "¿Soy el profesor? = False\n"
     ]
    }
   ],
   "source": [
    "nombre = \"Romina\"\n",
    "edad = 28\n",
    "es_profesora = False\n",
    "mensaje = \"Mi nombre es {} y tengo {} años. \\n¿Soy el profesor? = {}\".format(nombre, edad, es_profesora)\n",
    "print(mensaje)"
   ]
  },
  {
   "cell_type": "markdown",
   "id": "c6286103-e179-4213-b1d5-d4e83728e69a",
   "metadata": {},
   "source": [
    "Ejercicio 2.5\r\n",
    "Con input podemos ingresar un parametro directamente"
   ]
  },
  {
   "cell_type": "code",
   "execution_count": 81,
   "id": "16a6d1c7-eeb1-4d62-94d3-bf4753e7c42f",
   "metadata": {},
   "outputs": [
    {
     "name": "stdin",
     "output_type": "stream",
     "text": [
      "Por favor, introduce tu nombre:  Macarena\n"
     ]
    },
    {
     "name": "stdout",
     "output_type": "stream",
     "text": [
      "Hola Macarena\n"
     ]
    }
   ],
   "source": [
    "nombre = input (\"Por favor, introduce tu nombre: \")\n",
    "print(\"Hola\", nombre)\n"
   ]
  },
  {
   "cell_type": "code",
   "execution_count": 80,
   "id": "411dd5bf-6dde-4e2e-b411-3b9f6062e22a",
   "metadata": {},
   "outputs": [
    {
     "data": {
      "text/plain": [
       "str"
      ]
     },
     "execution_count": 80,
     "metadata": {},
     "output_type": "execute_result"
    }
   ],
   "source": [
    "type(nombre)\n"
   ]
  },
  {
   "cell_type": "markdown",
   "id": "bbf04668-fc74-4938-b8e7-00950d93f95b",
   "metadata": {},
   "source": [
    "Ejercicio 2.6\r\n",
    "isinstance() nos va a ser util cuando queramos chequear el tipo de dato de una variable"
   ]
  },
  {
   "cell_type": "code",
   "execution_count": 86,
   "id": "06d615c6-eaa8-4f17-ae4d-e422a8c462b4",
   "metadata": {},
   "outputs": [
    {
     "name": "stdout",
     "output_type": "stream",
     "text": [
      "False\n"
     ]
    }
   ],
   "source": [
    "numero_pi = 3.14\n",
    "print(isinstance(numero_pi, int))#Si mi condición se cumple retorna True, caso contrario retorna False"
   ]
  },
  {
   "cell_type": "markdown",
   "id": "065e504c-da5a-470e-8fe8-04e3adee4086",
   "metadata": {},
   "source": [
    "Ejercicio 2.7\r\n",
    "Cuando se trata de reducir o redondear la cantidad de decimales round() es la función que debemos usar"
   ]
  },
  {
   "cell_type": "code",
   "execution_count": 87,
   "id": "72bd2195-30f8-4569-96d4-1431ad6049ca",
   "metadata": {},
   "outputs": [
    {
     "name": "stdout",
     "output_type": "stream",
     "text": [
      "3.14\n"
     ]
    }
   ],
   "source": [
    "pi = 3.14159\n",
    "print(round(pi,2))#redondeo y muestro a 2 decimales"
   ]
  },
  {
   "cell_type": "code",
   "execution_count": 88,
   "id": "b4b0afd5-6704-4330-b4e0-25e19b4bf7e5",
   "metadata": {},
   "outputs": [
    {
     "data": {
      "text/plain": [
       "float"
      ]
     },
     "execution_count": 88,
     "metadata": {},
     "output_type": "execute_result"
    }
   ],
   "source": [
    "type(pi)\n"
   ]
  },
  {
   "cell_type": "code",
   "execution_count": 89,
   "id": "685e9a99-e879-4114-8fb3-54ea29808dd2",
   "metadata": {},
   "outputs": [
    {
     "data": {
      "text/plain": [
       "(7.0, float)"
      ]
     },
     "execution_count": 89,
     "metadata": {},
     "output_type": "execute_result"
    }
   ],
   "source": [
    "numeroSinTransformar = 6.68\n",
    "numeroTransformado = round(numeroSinTransformar, 0)#redondedo sin decimales\n",
    "numeroTransformado, type(numeroTransformado)#veamos como quedo y su tip de dato\n"
   ]
  },
  {
   "cell_type": "code",
   "execution_count": 90,
   "id": "b3ac602a-ff0b-4785-b260-c0b483147f2a",
   "metadata": {},
   "outputs": [
    {
     "data": {
      "text/plain": [
       "(7, int)"
      ]
     },
     "execution_count": 90,
     "metadata": {},
     "output_type": "execute_result"
    }
   ],
   "source": [
    "numeroTransformadoInteger = int(numeroTransformado)#Ahora transformo a integer despues de redondear\n",
    "numeroTransformadoInteger, type(numeroTransformadoInteger)\n"
   ]
  },
  {
   "cell_type": "markdown",
   "id": "efcbcffc-3cbc-4697-8ff6-2d24331d72f8",
   "metadata": {},
   "source": [
    "Ejercicio 2.8\r\n",
    "Queda propuesto un ejercicio donde se deben dar ejemplos para cada una de estas funciones básicas de python\r\n",
    "\r\n",
    "str()\r\n",
    "int()\r\n",
    "float()\r\n",
    "bool()"
   ]
  },
  {
   "cell_type": "code",
   "execution_count": 94,
   "id": "5efe2e5d-3046-458d-8520-b3155539c357",
   "metadata": {},
   "outputs": [
    {
     "data": {
      "text/plain": [
       "(23, int)"
      ]
     },
     "execution_count": 94,
     "metadata": {},
     "output_type": "execute_result"
    }
   ],
   "source": [
    "numero_sin_transformar = 23\n",
    "numero_sin_transformar, type(numero_sin_transformar)"
   ]
  },
  {
   "cell_type": "code",
   "execution_count": 96,
   "id": "16047b9d-bdbf-42a1-9264-6eabb3578048",
   "metadata": {},
   "outputs": [
    {
     "data": {
      "text/plain": [
       "('23', str)"
      ]
     },
     "execution_count": 96,
     "metadata": {},
     "output_type": "execute_result"
    }
   ],
   "source": [
    "numeroTransformadoAString = str(numero_sin_transformar)\n",
    "numeroTransformadoAString, type(numeroTransformadoAString)"
   ]
  },
  {
   "cell_type": "code",
   "execution_count": 98,
   "id": "2d9075fa-b7e3-4b9e-8439-9fc8d50934c4",
   "metadata": {},
   "outputs": [
    {
     "data": {
      "text/plain": [
       "('24', str)"
      ]
     },
     "execution_count": 98,
     "metadata": {},
     "output_type": "execute_result"
    }
   ],
   "source": [
    "numeroString = \"24\"\n",
    "numeroString, type(numeroString)"
   ]
  },
  {
   "cell_type": "code",
   "execution_count": 100,
   "id": "da1aa3e9-c035-4a13-a9ef-d3a18e4f492f",
   "metadata": {},
   "outputs": [
    {
     "data": {
      "text/plain": [
       "(24, int)"
      ]
     },
     "execution_count": 100,
     "metadata": {},
     "output_type": "execute_result"
    }
   ],
   "source": [
    "numeroStringAInteger = int(numeroString)\n",
    "numeroStringAInteger, type(numeroStringAInteger)"
   ]
  },
  {
   "cell_type": "code",
   "execution_count": 102,
   "id": "99306b67-7de7-4be3-957f-870aec051337",
   "metadata": {},
   "outputs": [
    {
     "data": {
      "text/plain": [
       "(1245, int)"
      ]
     },
     "execution_count": 102,
     "metadata": {},
     "output_type": "execute_result"
    }
   ],
   "source": [
    "numero = 1245\n",
    "numero, type(numero)"
   ]
  },
  {
   "cell_type": "code",
   "execution_count": 106,
   "id": "7c8faab9-2656-4f94-a5b0-f28350886d5f",
   "metadata": {},
   "outputs": [
    {
     "data": {
      "text/plain": [
       "(1245.0, float)"
      ]
     },
     "execution_count": 106,
     "metadata": {},
     "output_type": "execute_result"
    }
   ],
   "source": [
    "numeroAFloat = float(numero)\n",
    "numeroAFloat, type(numeroAFloat)"
   ]
  },
  {
   "cell_type": "code",
   "execution_count": 125,
   "id": "1498ca4c-d537-4de8-8fbe-0da6d59189c4",
   "metadata": {},
   "outputs": [
    {
     "data": {
      "text/plain": [
       "('', str)"
      ]
     },
     "execution_count": 125,
     "metadata": {},
     "output_type": "execute_result"
    }
   ],
   "source": [
    "condicion = \"\" # cadena no vacia = True cadena vacia = false\n",
    "condicion, type(condicion)"
   ]
  },
  {
   "cell_type": "code",
   "execution_count": 126,
   "id": "01365f33-383d-474b-a24e-7bcc2abda3e3",
   "metadata": {},
   "outputs": [
    {
     "data": {
      "text/plain": [
       "(False, bool)"
      ]
     },
     "execution_count": 126,
     "metadata": {},
     "output_type": "execute_result"
    }
   ],
   "source": [
    "condicionBool = bool(condicion)\n",
    "condicionBool, type(condicionBool)"
   ]
  },
  {
   "cell_type": "markdown",
   "id": "c4b0d4b1-ad7e-495a-8f77-7f85c4b0c7f8",
   "metadata": {},
   "source": [
    "Ejericio 3.1\r\n",
    "Veamos una función definida por nosotros muy sencilla, del tipo sin retorno y sin parametros"
   ]
  },
  {
   "cell_type": "code",
   "execution_count": 130,
   "id": "0236a764-1664-457e-8357-4ecf1daf909f",
   "metadata": {},
   "outputs": [],
   "source": [
    "def saludar_sin_retorno(): #Función sin retorno y sin parametros\n",
    "    print(\"¡Hola! Bienvenido a su asistente de data analitycs\")"
   ]
  },
  {
   "cell_type": "code",
   "execution_count": 131,
   "id": "84d6c72d-d1ec-4961-b750-e4c96d8fb717",
   "metadata": {},
   "outputs": [
    {
     "name": "stdout",
     "output_type": "stream",
     "text": [
      "¡Hola! Bienvenido a su asistente de data analitycs\n"
     ]
    }
   ],
   "source": [
    "# Llamada a la función sin retorno\n",
    "saludar_sin_retorno()"
   ]
  },
  {
   "cell_type": "markdown",
   "id": "5347e36c-1920-4684-b6dd-2c034914a8a2",
   "metadata": {},
   "source": [
    "Ejercicio 3.2\r\n",
    "Ahora veamos una función sin retorno y con parametros\r\n",
    "\r\n",
    "En python podemos pasarle parametros (informacion) a la función para poder despues utilizarlos adentro"
   ]
  },
  {
   "cell_type": "code",
   "execution_count": 132,
   "id": "6f655a19-f6d7-4813-9152-c4d5f41ea0aa",
   "metadata": {},
   "outputs": [],
   "source": [
    "def saludar_usuario(nombre):\n",
    "    print(\"Bienvenida:\", nombre)"
   ]
  },
  {
   "cell_type": "code",
   "execution_count": 133,
   "id": "8057283f-1321-404d-9ac1-a925cc92259f",
   "metadata": {},
   "outputs": [
    {
     "name": "stdout",
     "output_type": "stream",
     "text": [
      "Bienvenida: Romina Gutierrez\n"
     ]
    }
   ],
   "source": [
    "usuario = \"Romina Gutierrez\"\n",
    "\n",
    "saludar_usuario(usuario)"
   ]
  },
  {
   "cell_type": "markdown",
   "id": "a2c64ef0-d9fd-4445-9262-d3d4cb30951d",
   "metadata": {},
   "source": [
    "Ejercicio 3.3\r\n",
    "Ahora veamos una función con retorno y con parametros"
   ]
  },
  {
   "cell_type": "code",
   "execution_count": 134,
   "id": "471ba65b-2468-4024-948c-93633cbd7e9b",
   "metadata": {},
   "outputs": [],
   "source": [
    "def sumar (a, b): #Función con retorno y con parametros\n",
    "    return a + b"
   ]
  },
  {
   "cell_type": "code",
   "execution_count": 135,
   "id": "0858cbdb-7eaa-4337-9097-652967c8f2d8",
   "metadata": {},
   "outputs": [
    {
     "name": "stdout",
     "output_type": "stream",
     "text": [
      "El resultado de la suma es: 8\n"
     ]
    }
   ],
   "source": [
    "#Llama a la función con retorno\n",
    "resultado_suma = sumar (3, 5)\n",
    "print(\"El resultado de la suma es:\", resultado_suma)"
   ]
  },
  {
   "cell_type": "code",
   "execution_count": 136,
   "id": "326b63d1-f541-4f90-aa21-ffe254052e2c",
   "metadata": {},
   "outputs": [
    {
     "name": "stdout",
     "output_type": "stream",
     "text": [
      "El resultado de la suma es: 14\n"
     ]
    }
   ],
   "source": [
    "resultado_suma = sumar (9, 5)\n",
    "print(\"El resultado de la suma es:\", resultado_suma)"
   ]
  },
  {
   "cell_type": "markdown",
   "id": "3c79a4d6-bb45-4917-a9b3-822a32f52ff8",
   "metadata": {},
   "source": [
    "Ejericio 3.4\r\n",
    "Mucho cuidado porque el orden de los argumentos al llamar a una función con parámetros debe coincidir con el orden de los parámetros definidos en la función."
   ]
  },
  {
   "cell_type": "code",
   "execution_count": 138,
   "id": "56395401-b319-488a-b4f4-199897161933",
   "metadata": {},
   "outputs": [],
   "source": [
    "def resta(a,b):\n",
    "    return a - b"
   ]
  },
  {
   "cell_type": "code",
   "execution_count": 139,
   "id": "bb18a498-46be-4cb6-9b74-925149481773",
   "metadata": {},
   "outputs": [
    {
     "name": "stdout",
     "output_type": "stream",
     "text": [
      "El resultado de la resta es: 5\n"
     ]
    }
   ],
   "source": [
    "#llamada a la función con los argumentos en orden \n",
    "resultado_resta = resta(10,5)\n",
    "print(\"El resultado de la resta es:\", resultado_resta)\n"
   ]
  },
  {
   "cell_type": "code",
   "execution_count": 140,
   "id": "21124ce1-5a4f-439d-aed4-57b9b7a1c758",
   "metadata": {},
   "outputs": [
    {
     "name": "stdout",
     "output_type": "stream",
     "text": [
      "El resultado de la resta es: -5\n"
     ]
    }
   ],
   "source": [
    "#Si invertimos el orden vamos a obtener otro resultado \n",
    "resultado_resta = resta(5,10)\n",
    "print(\"El resultado de la resta es:\", resultado_resta)"
   ]
  },
  {
   "cell_type": "code",
   "execution_count": 143,
   "id": "986f7a9d-7908-44ee-9493-6ad077eb1ee1",
   "metadata": {},
   "outputs": [
    {
     "name": "stdout",
     "output_type": "stream",
     "text": [
      "El resultado de la resta (con otro orden de argumento) es: 5\n"
     ]
    }
   ],
   "source": [
    "#LLamda a la función con los argumentos en diferente orden\n",
    "resultado_resta_otro_orden = resta(b=5, a=10)#Aunque el orden cambia, la función toma los argumentos en la misma posicion\n",
    "print(\"El resultado de la resta (con otro orden de argumento) es:\", resultado_resta_otro_orden)"
   ]
  },
  {
   "cell_type": "code",
   "execution_count": null,
   "id": "3e450d9e-d12c-4008-b829-575a1f84adfc",
   "metadata": {},
   "outputs": [],
   "source": []
  }
 ],
 "metadata": {
  "kernelspec": {
   "display_name": "Python 3 (ipykernel)",
   "language": "python",
   "name": "python3"
  },
  "language_info": {
   "codemirror_mode": {
    "name": "ipython",
    "version": 3
   },
   "file_extension": ".py",
   "mimetype": "text/x-python",
   "name": "python",
   "nbconvert_exporter": "python",
   "pygments_lexer": "ipython3",
   "version": "3.11.7"
  }
 },
 "nbformat": 4,
 "nbformat_minor": 5
}
